{
 "cells": [
  {
   "cell_type": "markdown",
   "metadata": {},
   "source": [
    "# Import libraries"
   ]
  },
  {
   "cell_type": "code",
   "execution_count": 1,
   "metadata": {},
   "outputs": [],
   "source": [
    "from catboost import CatBoostClassifier, Pool\n",
    "import numpy as np\n",
    "import pandas as pd\n",
    "import polars as pl\n",
    "from sklearn.model_selection import StratifiedKFold\n",
    "import matplotlib.pyplot as plt\n",
    "import seaborn as sns\n",
    "import gc\n",
    "import warnings\n",
    "warnings.simplefilter('ignore')"
   ]
  },
  {
   "cell_type": "markdown",
   "metadata": {},
   "source": [
    "# Load train and test datasets"
   ]
  },
  {
   "cell_type": "code",
   "execution_count": 2,
   "metadata": {},
   "outputs": [
    {
     "data": {
      "text/html": [
       "<div><style>\n",
       ".dataframe > thead > tr,\n",
       ".dataframe > tbody > tr {\n",
       "  text-align: right;\n",
       "  white-space: pre-wrap;\n",
       "}\n",
       "</style>\n",
       "<small>shape: (5, 12)</small><table border=\"1\" class=\"dataframe\"><thead><tr><th>id</th><th>Gender</th><th>Age</th><th>Driving_License</th><th>Region_Code</th><th>Previously_Insured</th><th>Vehicle_Age</th><th>Vehicle_Damage</th><th>Annual_Premium</th><th>Policy_Sales_Channel</th><th>Vintage</th><th>Response</th></tr><tr><td>i64</td><td>str</td><td>i64</td><td>i64</td><td>f64</td><td>i64</td><td>str</td><td>str</td><td>f64</td><td>f64</td><td>i64</td><td>i64</td></tr></thead><tbody><tr><td>0</td><td>&quot;Male&quot;</td><td>21</td><td>1</td><td>35.0</td><td>0</td><td>&quot;1-2 Year&quot;</td><td>&quot;Yes&quot;</td><td>65101.0</td><td>124.0</td><td>187</td><td>0</td></tr><tr><td>1</td><td>&quot;Male&quot;</td><td>43</td><td>1</td><td>28.0</td><td>0</td><td>&quot;&gt; 2 Years&quot;</td><td>&quot;Yes&quot;</td><td>58911.0</td><td>26.0</td><td>288</td><td>1</td></tr><tr><td>2</td><td>&quot;Female&quot;</td><td>25</td><td>1</td><td>14.0</td><td>1</td><td>&quot;&lt; 1 Year&quot;</td><td>&quot;No&quot;</td><td>38043.0</td><td>152.0</td><td>254</td><td>0</td></tr><tr><td>3</td><td>&quot;Female&quot;</td><td>35</td><td>1</td><td>1.0</td><td>0</td><td>&quot;1-2 Year&quot;</td><td>&quot;Yes&quot;</td><td>2630.0</td><td>156.0</td><td>76</td><td>0</td></tr><tr><td>4</td><td>&quot;Female&quot;</td><td>36</td><td>1</td><td>15.0</td><td>1</td><td>&quot;1-2 Year&quot;</td><td>&quot;No&quot;</td><td>31951.0</td><td>152.0</td><td>294</td><td>0</td></tr></tbody></table></div>"
      ],
      "text/plain": [
       "shape: (5, 12)\n",
       "┌─────┬────────┬─────┬─────────────────┬───┬────────────────┬─────────────────┬─────────┬──────────┐\n",
       "│ id  ┆ Gender ┆ Age ┆ Driving_License ┆ … ┆ Annual_Premium ┆ Policy_Sales_Ch ┆ Vintage ┆ Response │\n",
       "│ --- ┆ ---    ┆ --- ┆ ---             ┆   ┆ ---            ┆ annel           ┆ ---     ┆ ---      │\n",
       "│ i64 ┆ str    ┆ i64 ┆ i64             ┆   ┆ f64            ┆ ---             ┆ i64     ┆ i64      │\n",
       "│     ┆        ┆     ┆                 ┆   ┆                ┆ f64             ┆         ┆          │\n",
       "╞═════╪════════╪═════╪═════════════════╪═══╪════════════════╪═════════════════╪═════════╪══════════╡\n",
       "│ 0   ┆ Male   ┆ 21  ┆ 1               ┆ … ┆ 65101.0        ┆ 124.0           ┆ 187     ┆ 0        │\n",
       "│ 1   ┆ Male   ┆ 43  ┆ 1               ┆ … ┆ 58911.0        ┆ 26.0            ┆ 288     ┆ 1        │\n",
       "│ 2   ┆ Female ┆ 25  ┆ 1               ┆ … ┆ 38043.0        ┆ 152.0           ┆ 254     ┆ 0        │\n",
       "│ 3   ┆ Female ┆ 35  ┆ 1               ┆ … ┆ 2630.0         ┆ 156.0           ┆ 76      ┆ 0        │\n",
       "│ 4   ┆ Female ┆ 36  ┆ 1               ┆ … ┆ 31951.0        ┆ 152.0           ┆ 294     ┆ 0        │\n",
       "└─────┴────────┴─────┴─────────────────┴───┴────────────────┴─────────────────┴─────────┴──────────┘"
      ]
     },
     "execution_count": 2,
     "metadata": {},
     "output_type": "execute_result"
    }
   ],
   "source": [
    "train = pl.read_csv('train.csv')\n",
    "train.head()\n",
    "test = pl.read_csv('test.csv')\n",
    "test.head()"
   ]
  },
  {
   "cell_type": "markdown",
   "metadata": {},
   "source": [
    "# Add 'Response' column to test set with default value 0 for concatenation"
   ]
  },
  {
   "cell_type": "code",
   "execution_count": 4,
   "metadata": {},
   "outputs": [
    {
     "data": {
      "text/html": [
       "<div>\n",
       "<style scoped>\n",
       "    .dataframe tbody tr th:only-of-type {\n",
       "        vertical-align: middle;\n",
       "    }\n",
       "\n",
       "    .dataframe tbody tr th {\n",
       "        vertical-align: top;\n",
       "    }\n",
       "\n",
       "    .dataframe thead th {\n",
       "        text-align: right;\n",
       "    }\n",
       "</style>\n",
       "<table border=\"1\" class=\"dataframe\">\n",
       "  <thead>\n",
       "    <tr style=\"text-align: right;\">\n",
       "      <th></th>\n",
       "      <th>id</th>\n",
       "      <th>Gender</th>\n",
       "      <th>Age</th>\n",
       "      <th>Driving_License</th>\n",
       "      <th>Region_Code</th>\n",
       "      <th>Previously_Insured</th>\n",
       "      <th>Vehicle_Age</th>\n",
       "      <th>Vehicle_Damage</th>\n",
       "      <th>Annual_Premium</th>\n",
       "      <th>Policy_Sales_Channel</th>\n",
       "      <th>Vintage</th>\n",
       "      <th>Response</th>\n",
       "      <th>Previously_Insured_Annual_Premium</th>\n",
       "      <th>Previously_Insured_Vehicle_Age</th>\n",
       "      <th>Previously_Insured_Vehicle_Damage</th>\n",
       "      <th>Previously_Insured_Vintage</th>\n",
       "    </tr>\n",
       "  </thead>\n",
       "  <tbody>\n",
       "    <tr>\n",
       "      <th>0</th>\n",
       "      <td>0</td>\n",
       "      <td>0</td>\n",
       "      <td>21</td>\n",
       "      <td>1</td>\n",
       "      <td>35</td>\n",
       "      <td>0</td>\n",
       "      <td>1</td>\n",
       "      <td>1</td>\n",
       "      <td>65101</td>\n",
       "      <td>124</td>\n",
       "      <td>187</td>\n",
       "      <td>0</td>\n",
       "      <td>0</td>\n",
       "      <td>0</td>\n",
       "      <td>0</td>\n",
       "      <td>0</td>\n",
       "    </tr>\n",
       "    <tr>\n",
       "      <th>1</th>\n",
       "      <td>1</td>\n",
       "      <td>0</td>\n",
       "      <td>43</td>\n",
       "      <td>1</td>\n",
       "      <td>28</td>\n",
       "      <td>0</td>\n",
       "      <td>2</td>\n",
       "      <td>1</td>\n",
       "      <td>58911</td>\n",
       "      <td>26</td>\n",
       "      <td>288</td>\n",
       "      <td>1</td>\n",
       "      <td>1</td>\n",
       "      <td>1</td>\n",
       "      <td>0</td>\n",
       "      <td>1</td>\n",
       "    </tr>\n",
       "    <tr>\n",
       "      <th>2</th>\n",
       "      <td>2</td>\n",
       "      <td>1</td>\n",
       "      <td>25</td>\n",
       "      <td>1</td>\n",
       "      <td>14</td>\n",
       "      <td>1</td>\n",
       "      <td>0</td>\n",
       "      <td>0</td>\n",
       "      <td>38043</td>\n",
       "      <td>152</td>\n",
       "      <td>254</td>\n",
       "      <td>0</td>\n",
       "      <td>2</td>\n",
       "      <td>2</td>\n",
       "      <td>1</td>\n",
       "      <td>2</td>\n",
       "    </tr>\n",
       "    <tr>\n",
       "      <th>3</th>\n",
       "      <td>3</td>\n",
       "      <td>1</td>\n",
       "      <td>35</td>\n",
       "      <td>1</td>\n",
       "      <td>1</td>\n",
       "      <td>0</td>\n",
       "      <td>1</td>\n",
       "      <td>1</td>\n",
       "      <td>2630</td>\n",
       "      <td>156</td>\n",
       "      <td>76</td>\n",
       "      <td>0</td>\n",
       "      <td>3</td>\n",
       "      <td>0</td>\n",
       "      <td>0</td>\n",
       "      <td>3</td>\n",
       "    </tr>\n",
       "    <tr>\n",
       "      <th>4</th>\n",
       "      <td>4</td>\n",
       "      <td>1</td>\n",
       "      <td>36</td>\n",
       "      <td>1</td>\n",
       "      <td>15</td>\n",
       "      <td>1</td>\n",
       "      <td>1</td>\n",
       "      <td>0</td>\n",
       "      <td>31951</td>\n",
       "      <td>152</td>\n",
       "      <td>294</td>\n",
       "      <td>0</td>\n",
       "      <td>4</td>\n",
       "      <td>3</td>\n",
       "      <td>1</td>\n",
       "      <td>4</td>\n",
       "    </tr>\n",
       "  </tbody>\n",
       "</table>\n",
       "</div>"
      ],
      "text/plain": [
       "   id  Gender  Age  Driving_License  Region_Code  Previously_Insured  \\\n",
       "0   0       0   21                1           35                   0   \n",
       "1   1       0   43                1           28                   0   \n",
       "2   2       1   25                1           14                   1   \n",
       "3   3       1   35                1            1                   0   \n",
       "4   4       1   36                1           15                   1   \n",
       "\n",
       "   Vehicle_Age  Vehicle_Damage  Annual_Premium  Policy_Sales_Channel  Vintage  \\\n",
       "0            1               1           65101                   124      187   \n",
       "1            2               1           58911                    26      288   \n",
       "2            0               0           38043                   152      254   \n",
       "3            1               1            2630                   156       76   \n",
       "4            1               0           31951                   152      294   \n",
       "\n",
       "   Response  Previously_Insured_Annual_Premium  \\\n",
       "0         0                                  0   \n",
       "1         1                                  1   \n",
       "2         0                                  2   \n",
       "3         0                                  3   \n",
       "4         0                                  4   \n",
       "\n",
       "   Previously_Insured_Vehicle_Age  Previously_Insured_Vehicle_Damage  \\\n",
       "0                               0                                  0   \n",
       "1                               1                                  0   \n",
       "2                               2                                  1   \n",
       "3                               0                                  0   \n",
       "4                               3                                  1   \n",
       "\n",
       "   Previously_Insured_Vintage  \n",
       "0                           0  \n",
       "1                           1  \n",
       "2                           2  \n",
       "3                           3  \n",
       "4                           4  "
      ]
     },
     "execution_count": 4,
     "metadata": {},
     "output_type": "execute_result"
    }
   ],
   "source": [
    "test = test.with_columns(pl.lit(0).cast(pl.Int64).alias('Response'))"
   ]
  },
  {
   "cell_type": "markdown",
   "metadata": {},
   "source": [
    "# Concatenate train and test datasets for preprocessing"
   ]
  },
  {
   "cell_type": "code",
   "execution_count": null,
   "metadata": {},
   "outputs": [],
   "source": [
    "df = pl.concat([train, test])"
   ]
  },
  {
   "cell_type": "markdown",
   "metadata": {},
   "source": [
    "# Data preprocessing: Encode categorical variables and cast columns to appropriate types"
   ]
  },
  {
   "cell_type": "code",
   "execution_count": null,
   "metadata": {},
   "outputs": [],
   "source": [
    "\n",
    "df = df.with_columns([\n",
    "    pl.col('Gender').replace({'Male': 0, 'Female': 1}).cast(pl.Int32),\n",
    "    pl.col('Region_Code').cast(int),\n",
    "    pl.col('Vehicle_Age').replace({'< 1 Year': 0, '1-2 Year': 1, '> 2 Years': 2}).cast(pl.Int32),\n",
    "    pl.col('Vehicle_Damage').replace({'No': 0, 'Yes': 1}).cast(pl.Int32),\n",
    "    pl.col('Annual_Premium').cast(int),\n",
    "    pl.col('Policy_Sales_Channel').cast(int)\n",
    "])"
   ]
  },
  {
   "cell_type": "markdown",
   "metadata": {},
   "source": [
    "# Feature engineering: Create new features by combining existing ones and applying factorization"
   ]
  },
  {
   "cell_type": "code",
   "execution_count": null,
   "metadata": {},
   "outputs": [],
   "source": [
    "\n",
    "df = df.with_columns([\n",
    "    (pl.Series(pd.factorize((df['Previously_Insured'].cast(str) + df['Annual_Premium'].cast(str)).to_numpy())[0])).alias('Previously_Insured_Annual_Premium'),\n",
    "    (pl.Series(pd.factorize((df['Previously_Insured'].cast(str) + df['Vehicle_Age'].cast(str)).to_numpy())[0])).alias('Previously_Insured_Vehicle_Age'),\n",
    "    (pl.Series(pd.factorize((df['Previously_Insured'].cast(str) + df['Vehicle_Damage'].cast(str)).to_numpy())[0])).alias('Previously_Insured_Vehicle_Damage'),\n",
    "    (pl.Series(pd.factorize((df['Previously_Insured'].cast(str) + df['Vintage'].cast(str)).to_numpy())[0])).alias('Previously_Insured_Vintage')\n",
    "])"
   ]
  },
  {
   "cell_type": "markdown",
   "metadata": {},
   "source": [
    "# Split the processed dataframe back into train and test sets"
   ]
  },
  {
   "cell_type": "code",
   "execution_count": null,
   "metadata": {},
   "outputs": [],
   "source": [
    "train = df[:train.shape[0]].to_pandas()\n",
    "test = df[train.shape[0]:].to_pandas()\n",
    "\n",
    "train.head()"
   ]
  },
  {
   "cell_type": "markdown",
   "metadata": {},
   "source": [
    "# Prepare features and target variable for training"
   ]
  },
  {
   "cell_type": "code",
   "execution_count": 5,
   "metadata": {},
   "outputs": [
    {
     "data": {
      "text/plain": [
       "0"
      ]
     },
     "execution_count": 5,
     "metadata": {},
     "output_type": "execute_result"
    }
   ],
   "source": [
    "X_train = train.drop(['id', 'Response'], axis=1)\n",
    "y_train = train['Response']\n",
    "X_test = test[X_train.columns]\n",
    "submission = test[['id']]"
   ]
  },
  {
   "cell_type": "markdown",
   "metadata": {},
   "source": [
    "# Clean up memory"
   ]
  },
  {
   "cell_type": "code",
   "execution_count": null,
   "metadata": {},
   "outputs": [],
   "source": [
    "del train, test, df\n",
    "gc.collect()"
   ]
  },
  {
   "cell_type": "markdown",
   "metadata": {},
   "source": [
    "# Define Stratified K-Fold cross-validation"
   ]
  },
  {
   "cell_type": "code",
   "execution_count": null,
   "metadata": {},
   "outputs": [],
   "source": [
    "cv = StratifiedKFold(4, shuffle=True, random_state=0)\n",
    "cv_splits = cv.split(X_train, y_train)"
   ]
  },
  {
   "cell_type": "markdown",
   "metadata": {},
   "source": [
    "# Initialize a list to store test predictions"
   ]
  },
  {
   "cell_type": "code",
   "execution_count": null,
   "metadata": {},
   "outputs": [],
   "source": [
    "test_preds = list()"
   ]
  },
  {
   "cell_type": "markdown",
   "metadata": {},
   "source": [
    "# Define CatBoost parameters"
   ]
  },
  {
   "cell_type": "code",
   "execution_count": null,
   "metadata": {},
   "outputs": [],
   "source": [
    "params = {\n",
    "    'nan_mode': 'Min',\n",
    "    'gpu_ram_part': 0.85,\n",
    "    'eval_metric': 'AUC',\n",
    "    'combinations_ctr': ['Borders:CtrBorderCount=15:CtrBorderType=Uniform:TargetBorderCount=1:TargetBorderType=MinEntropy:Prior=0/1:Prior=0.5/1:Prior=1/1',\n",
    "    'FeatureFreq:CtrBorderCount=15:CtrBorderType=Median:Prior=0/1'],\n",
    "    'iterations': 2500,\n",
    "    'fold_permutation_block': 64,\n",
    "    'leaf_estimation_method': 'Newton',\n",
    "    'od_pval': 0,\n",
    "    'random_score_type': 'NormalWithModelSizeDecrease',\n",
    "    'counter_calc_method': 'SkipTest',\n",
    "    'grow_policy': 'SymmetricTree',\n",
    "    'penalties_coefficient': 1,\n",
    "    'boosting_type': 'Plain',\n",
    "    'ctr_history_unit': 'Sample',\n",
    "    'feature_border_type': 'GreedyLogSum',\n",
    "    'one_hot_max_size': 2,\n",
    "    'devices': '-1',\n",
    "    'eval_fraction': 0,\n",
    "    'l2_leaf_reg': 0.5,\n",
    "    'random_strength': 0,\n",
    "    'od_type': 'Iter',\n",
    "    'rsm': 1,\n",
    "    'boost_from_average': False,\n",
    "    'gpu_cat_features_storage': 'GpuRam',\n",
    "    'max_ctr_complexity': 4,\n",
    "    'model_size_reg': 0.5,\n",
    "    'simple_ctr': ['Borders:CtrBorderCount=15:CtrBorderType=Uniform:TargetBorderCount=1:TargetBorderType=MinEntropy:Prior=0/1:Prior=0.5/1:Prior=1/1',\n",
    "    'FeatureFreq:CtrBorderCount=15:CtrBorderType=MinEntropy:Prior=0/1'],\n",
    "    'use_best_model': True,\n",
    "    'od_wait': 200,\n",
    "    'class_names': [0, 1],\n",
    "    'random_seed': 42,\n",
    "    'depth': 9,\n",
    "    'ctr_target_border_count': 1,\n",
    "    'has_time': False,\n",
    "    'border_count': 128,\n",
    "    'data_partition': 'FeatureParallel',\n",
    "    'bagging_temperature': 1,\n",
    "    'classes_count': 0,\n",
    "    'auto_class_weights': 'None',\n",
    "    'leaf_estimation_backtracking': 'AnyImprovement',\n",
    "    'best_model_min_trees': 1,\n",
    "    'min_data_in_leaf': 1,\n",
    "    'loss_function': 'Logloss',\n",
    "    'learning_rate': 0.075,\n",
    "    'score_function': 'Cosine',\n",
    "    'task_type': 'GPU',\n",
    "    'leaf_estimation_iterations': 10,\n",
    "    'bootstrap_type': 'Bayesian',\n",
    "    'max_leaves': 512,\n",
    "}"
   ]
  },
  {
   "cell_type": "markdown",
   "metadata": {},
   "source": [
    "# Train CatBoost model using Stratified K-Fold cross-validation and clean up memory"
   ]
  },
  {
   "cell_type": "code",
   "execution_count": 6,
   "metadata": {},
   "outputs": [
    {
     "name": "stderr",
     "output_type": "stream",
     "text": [
      "Default metric period is 5 because AUC is/are not implemented for GPU\n"
     ]
    },
    {
     "name": "stdout",
     "output_type": "stream",
     "text": [
      "0:\ttest: 0.8767587\tbest: 0.8767587 (0)\ttotal: 2.11s\tremaining: 1h 27m 56s\n",
      "250:\ttest: 0.9171066\tbest: 0.9171066 (250)\ttotal: 8m 9s\tremaining: 1h 13m 1s\n",
      "500:\ttest: 0.9218410\tbest: 0.9218410 (500)\ttotal: 16m 11s\tremaining: 1h 4m 37s\n",
      "750:\ttest: 0.9242518\tbest: 0.9242518 (750)\ttotal: 24m 12s\tremaining: 56m 23s\n",
      "1000:\ttest: 0.9257380\tbest: 0.9257700 (999)\ttotal: 32m 20s\tremaining: 48m 25s\n",
      "1250:\ttest: 0.9262079\tbest: 0.9262220 (1244)\ttotal: 40m 24s\tremaining: 40m 20s\n",
      "1500:\ttest: 0.9265363\tbest: 0.9265556 (1423)\ttotal: 48m 23s\tremaining: 32m 12s\n",
      "1750:\ttest: 0.9271720\tbest: 0.9271740 (1742)\ttotal: 56m 20s\tremaining: 24m 5s\n",
      "2000:\ttest: 0.9274070\tbest: 0.9274070 (2000)\ttotal: 1h 4m 24s\tremaining: 16m 3s\n",
      "2250:\ttest: 0.9279224\tbest: 0.9279224 (2250)\ttotal: 1h 12m 28s\tremaining: 8m\n",
      "2499:\ttest: 0.9283029\tbest: 0.9283187 (2491)\ttotal: 1h 20m 22s\tremaining: 0us\n",
      "bestTest = 0.9283186793\n",
      "bestIteration = 2491\n",
      "Shrink model to first 2492 iterations.\n",
      "Fold 1 finished.\n"
     ]
    },
    {
     "name": "stderr",
     "output_type": "stream",
     "text": [
      "Default metric period is 5 because AUC is/are not implemented for GPU\n"
     ]
    },
    {
     "name": "stdout",
     "output_type": "stream",
     "text": [
      "0:\ttest: 0.8773128\tbest: 0.8773128 (0)\ttotal: 2.17s\tremaining: 1h 30m 29s\n",
      "250:\ttest: 0.9174850\tbest: 0.9174850 (250)\ttotal: 8m 13s\tremaining: 1h 13m 38s\n",
      "500:\ttest: 0.9226437\tbest: 0.9226437 (500)\ttotal: 16m 17s\tremaining: 1h 5m\n",
      "750:\ttest: 0.9249237\tbest: 0.9249263 (748)\ttotal: 24m 18s\tremaining: 56m 36s\n",
      "1000:\ttest: 0.9259652\tbest: 0.9259686 (942)\ttotal: 32m 18s\tremaining: 48m 22s\n",
      "1250:\ttest: 0.9264453\tbest: 0.9264484 (1241)\ttotal: 40m 22s\tremaining: 40m 18s\n",
      "1500:\ttest: 0.9271277\tbest: 0.9271347 (1499)\ttotal: 48m 26s\tremaining: 32m 14s\n",
      "1750:\ttest: 0.9274547\tbest: 0.9274552 (1738)\ttotal: 56m 30s\tremaining: 24m 10s\n",
      "2000:\ttest: 0.9277995\tbest: 0.9277996 (1975)\ttotal: 1h 4m 31s\tremaining: 16m 5s\n",
      "2250:\ttest: 0.9281549\tbest: 0.9281549 (2250)\ttotal: 1h 12m 28s\tremaining: 8m\n",
      "2499:\ttest: 0.9284413\tbest: 0.9284627 (2494)\ttotal: 1h 20m 2s\tremaining: 0us\n",
      "bestTest = 0.9284626842\n",
      "bestIteration = 2494\n",
      "Shrink model to first 2495 iterations.\n",
      "Fold 2 finished.\n"
     ]
    },
    {
     "name": "stderr",
     "output_type": "stream",
     "text": [
      "Default metric period is 5 because AUC is/are not implemented for GPU\n"
     ]
    },
    {
     "name": "stdout",
     "output_type": "stream",
     "text": [
      "0:\ttest: 0.8771950\tbest: 0.8771950 (0)\ttotal: 2.16s\tremaining: 1h 30m 2s\n",
      "250:\ttest: 0.9171047\tbest: 0.9171047 (250)\ttotal: 8m 18s\tremaining: 1h 14m 25s\n",
      "500:\ttest: 0.9225286\tbest: 0.9225286 (500)\ttotal: 16m 29s\tremaining: 1h 5m 47s\n",
      "750:\ttest: 0.9253376\tbest: 0.9253376 (750)\ttotal: 24m 36s\tremaining: 57m 19s\n",
      "1000:\ttest: 0.9263925\tbest: 0.9263925 (1000)\ttotal: 32m 47s\tremaining: 49m 6s\n",
      "1250:\ttest: 0.9269596\tbest: 0.9269642 (1245)\ttotal: 40m 53s\tremaining: 40m 49s\n",
      "1500:\ttest: 0.9274687\tbest: 0.9274740 (1497)\ttotal: 48m 51s\tremaining: 32m 31s\n",
      "1750:\ttest: 0.9280935\tbest: 0.9280935 (1750)\ttotal: 56m 39s\tremaining: 24m 14s\n",
      "2000:\ttest: 0.9282690\tbest: 0.9282879 (1979)\ttotal: 1h 4m 28s\tremaining: 16m 4s\n",
      "2250:\ttest: 0.9285079\tbest: 0.9285116 (2246)\ttotal: 1h 12m 32s\tremaining: 8m 1s\n",
      "2499:\ttest: 0.9289747\tbest: 0.9289770 (2497)\ttotal: 1h 19m 58s\tremaining: 0us\n",
      "bestTest = 0.928976953\n",
      "bestIteration = 2497\n",
      "Shrink model to first 2498 iterations.\n",
      "Fold 3 finished.\n"
     ]
    },
    {
     "name": "stderr",
     "output_type": "stream",
     "text": [
      "Default metric period is 5 because AUC is/are not implemented for GPU\n"
     ]
    },
    {
     "name": "stdout",
     "output_type": "stream",
     "text": [
      "0:\ttest: 0.8773500\tbest: 0.8773500 (0)\ttotal: 2.11s\tremaining: 1h 28m 3s\n",
      "250:\ttest: 0.9166902\tbest: 0.9166902 (250)\ttotal: 7m 30s\tremaining: 1h 7m 18s\n",
      "500:\ttest: 0.9229822\tbest: 0.9229861 (491)\ttotal: 14m 52s\tremaining: 59m 22s\n",
      "750:\ttest: 0.9251425\tbest: 0.9251667 (741)\ttotal: 22m 7s\tremaining: 51m 30s\n",
      "1000:\ttest: 0.9262666\tbest: 0.9262666 (1000)\ttotal: 29m 26s\tremaining: 44m 5s\n",
      "1250:\ttest: 0.9265789\tbest: 0.9265928 (1122)\ttotal: 36m 46s\tremaining: 36m 42s\n",
      "1500:\ttest: 0.9271724\tbest: 0.9271724 (1500)\ttotal: 44m 2s\tremaining: 29m 18s\n",
      "1750:\ttest: 0.9273695\tbest: 0.9273763 (1747)\ttotal: 51m 24s\tremaining: 21m 59s\n",
      "2000:\ttest: 0.9275915\tbest: 0.9275915 (2000)\ttotal: 58m 41s\tremaining: 14m 38s\n",
      "2250:\ttest: 0.9280373\tbest: 0.9280373 (2250)\ttotal: 1h 6m 10s\tremaining: 7m 19s\n",
      "2499:\ttest: 0.9284146\tbest: 0.9284238 (2437)\ttotal: 1h 13m 4s\tremaining: 0us\n",
      "bestTest = 0.9284237623\n",
      "bestIteration = 2437\n",
      "Shrink model to first 2438 iterations.\n",
      "Fold 4 finished.\n"
     ]
    }
   ],
   "source": [
    "for i, (train_idx, val_idx) in enumerate(cv_splits):\n",
    "    model = CatBoostClassifier(**params, verbose=False)\n",
    "    X_train_fold, X_val_fold = X_train.loc[train_idx], X_train.loc[val_idx]\n",
    "    y_train_fold, y_val_fold = y_train.loc[train_idx], y_train.loc[val_idx]\n",
    "    X_train_pool = Pool(X_train, y_train, cat_features=X_train.columns.values)\n",
    "    X_valid_pool = Pool(X_val_fold, y_val_fold, cat_features=X_val_fold.columns.values)\n",
    "    X_test_pool = Pool(X_test[X_train.columns], cat_features=X_test.columns.values)\n",
    "    model.fit(X=X_train_pool, eval_set=X_valid_pool, verbose=250, early_stopping_rounds=200)\n",
    "    test_pred = model.predict_proba(X_test_pool)[:, 1]\n",
    "    test_preds.append(test_pred)\n",
    "    \n",
    "    del X_train_fold, X_val_fold, y_train_fold, y_val_fold\n",
    "    del X_train_pool, X_valid_pool, X_test_pool\n",
    "    del model, test_pred\n",
    "    gc.collect()\n",
    "    print(f'Fold {i+1} finished.')"
   ]
  },
  {
   "cell_type": "markdown",
   "metadata": {},
   "source": [
    "# Average predictions across all folds and save submission file"
   ]
  },
  {
   "cell_type": "code",
   "execution_count": 7,
   "metadata": {},
   "outputs": [
    {
     "data": {
      "text/html": [
       "<div>\n",
       "<style scoped>\n",
       "    .dataframe tbody tr th:only-of-type {\n",
       "        vertical-align: middle;\n",
       "    }\n",
       "\n",
       "    .dataframe tbody tr th {\n",
       "        vertical-align: top;\n",
       "    }\n",
       "\n",
       "    .dataframe thead th {\n",
       "        text-align: right;\n",
       "    }\n",
       "</style>\n",
       "<table border=\"1\" class=\"dataframe\">\n",
       "  <thead>\n",
       "    <tr style=\"text-align: right;\">\n",
       "      <th></th>\n",
       "      <th>id</th>\n",
       "      <th>Response</th>\n",
       "    </tr>\n",
       "  </thead>\n",
       "  <tbody>\n",
       "    <tr>\n",
       "      <th>0</th>\n",
       "      <td>11504798</td>\n",
       "      <td>0.005421</td>\n",
       "    </tr>\n",
       "    <tr>\n",
       "      <th>1</th>\n",
       "      <td>11504799</td>\n",
       "      <td>0.678243</td>\n",
       "    </tr>\n",
       "    <tr>\n",
       "      <th>2</th>\n",
       "      <td>11504800</td>\n",
       "      <td>0.244888</td>\n",
       "    </tr>\n",
       "    <tr>\n",
       "      <th>3</th>\n",
       "      <td>11504801</td>\n",
       "      <td>0.000079</td>\n",
       "    </tr>\n",
       "    <tr>\n",
       "      <th>4</th>\n",
       "      <td>11504802</td>\n",
       "      <td>0.272695</td>\n",
       "    </tr>\n",
       "    <tr>\n",
       "      <th>5</th>\n",
       "      <td>11504803</td>\n",
       "      <td>0.000058</td>\n",
       "    </tr>\n",
       "    <tr>\n",
       "      <th>6</th>\n",
       "      <td>11504804</td>\n",
       "      <td>0.103942</td>\n",
       "    </tr>\n",
       "    <tr>\n",
       "      <th>7</th>\n",
       "      <td>11504805</td>\n",
       "      <td>0.003222</td>\n",
       "    </tr>\n",
       "    <tr>\n",
       "      <th>8</th>\n",
       "      <td>11504806</td>\n",
       "      <td>0.000040</td>\n",
       "    </tr>\n",
       "    <tr>\n",
       "      <th>9</th>\n",
       "      <td>11504807</td>\n",
       "      <td>0.000184</td>\n",
       "    </tr>\n",
       "  </tbody>\n",
       "</table>\n",
       "</div>"
      ],
      "text/plain": [
       "         id  Response\n",
       "0  11504798  0.005421\n",
       "1  11504799  0.678243\n",
       "2  11504800  0.244888\n",
       "3  11504801  0.000079\n",
       "4  11504802  0.272695\n",
       "5  11504803  0.000058\n",
       "6  11504804  0.103942\n",
       "7  11504805  0.003222\n",
       "8  11504806  0.000040\n",
       "9  11504807  0.000184"
      ]
     },
     "execution_count": 7,
     "metadata": {},
     "output_type": "execute_result"
    }
   ],
   "source": [
    "submission['Response'] = np.mean(test_preds, axis=0)\n",
    "submission.to_csv('submission.csv', index=False)\n",
    "submission.head(10)"
   ]
  }
 ],
 "metadata": {
  "kernelspec": {
   "display_name": "Python 3",
   "language": "python",
   "name": "python3"
  },
  "language_info": {
   "codemirror_mode": {
    "name": "ipython",
    "version": 3
   },
   "file_extension": ".py",
   "mimetype": "text/x-python",
   "name": "python",
   "nbconvert_exporter": "python",
   "pygments_lexer": "ipython3",
   "version": "3.12.3"
  }
 },
 "nbformat": 4,
 "nbformat_minor": 2
}
